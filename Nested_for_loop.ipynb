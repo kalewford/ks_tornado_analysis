{
 "cells": [
  {
   "cell_type": "code",
   "execution_count": 27,
   "metadata": {},
   "outputs": [],
   "source": [
    "import pandas as pd\n",
    "import numpy as np\n",
    "import json\n",
    "import requests"
   ]
  },
  {
   "cell_type": "code",
   "execution_count": 28,
   "metadata": {},
   "outputs": [],
   "source": [
    "tornado = pd.read_csv(\"../ks_tornado_analysis/resources/1950-2019_KS_Tornados.csv\")"
   ]
  },
  {
   "cell_type": "code",
   "execution_count": 29,
   "metadata": {},
   "outputs": [],
   "source": [
    "Coordinates= {}\n",
    "\n",
    "for index, row in tornado.iterrows():\n",
    "    try:\n",
    "        lat = row[\"BEGIN_LAT\"]\n",
    "        long = row[\"BEGIN_LON\"]\n",
    "        \n",
    "        \n",
    "        \n",
    "        \n",
    "        Coordinates.update({Coordinates: (row['dataset']['data'])[0][1]})\n",
    "    except KeyError:\n",
    "        continue\n",
    "\n",
    "#Conversion into the DataFrame\n",
    "#NOTE that we are using the \"FROM_DICT\" to properly bring in the data\n",
    "DF0 = pd.DataFrame.from_dict(Coordinates, orient='index')"
   ]
  },
  {
   "cell_type": "code",
   "execution_count": 31,
   "metadata": {},
   "outputs": [
    {
     "data": {
      "text/plain": [
       "'{}'"
      ]
     },
     "execution_count": 31,
     "metadata": {},
     "output_type": "execute_result"
    }
   ],
   "source": [
    "DF0.to_json()"
   ]
  },
  {
   "cell_type": "code",
   "execution_count": null,
   "metadata": {},
   "outputs": [],
   "source": []
  },
  {
   "cell_type": "code",
   "execution_count": null,
   "metadata": {},
   "outputs": [],
   "source": []
  }
 ],
 "metadata": {
  "kernelspec": {
   "display_name": "Python 3",
   "language": "python",
   "name": "python3"
  },
  "language_info": {
   "codemirror_mode": {
    "name": "ipython",
    "version": 3
   },
   "file_extension": ".py",
   "mimetype": "text/x-python",
   "name": "python",
   "nbconvert_exporter": "python",
   "pygments_lexer": "ipython3",
   "version": "3.7.1"
  }
 },
 "nbformat": 4,
 "nbformat_minor": 2
}
